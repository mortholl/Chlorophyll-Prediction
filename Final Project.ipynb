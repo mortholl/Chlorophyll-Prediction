{
 "cells": [
  {
   "cell_type": "code",
   "execution_count": 1,
   "metadata": {},
   "outputs": [],
   "source": [
    "##Import packages\n",
    "import numpy as np\n",
    "import matplotlib.pyplot as plt"
   ]
  },
  {
   "cell_type": "code",
   "execution_count": 2,
   "metadata": {},
   "outputs": [
    {
     "name": "stdout",
     "output_type": "stream",
     "text": [
      "(940, 6)\n",
      "(940,)\n"
     ]
    }
   ],
   "source": [
    "##Import data and specify input features, target values\n",
    "X = []\n",
    "Y = []\n",
    "\n",
    "def sanitize(row):\n",
    "    if all([row[1], row[2], row[3], row[4], row[5], row[6], row[7]]):\n",
    "        return [float(row[1]), #tidally filtered discharge (cfs)\n",
    "                float(row[2]), #dissolved oxygen (mg/L)\n",
    "                float(row[3]), #water temperature (deg C)\n",
    "                float(row[4]), #air temperature (deg F)\n",
    "                float(row[5]), #precipitation (in)\n",
    "                float(row[6])  #specific conductance (uS/L)\n",
    "                ]\n",
    "    else:\n",
    "        return False\n",
    "\n",
    "import csv\n",
    "with open('C:\\\\Users\\\\morga\\\\CE510\\\\Final\\\\FinalData.csv') as csvfile:\n",
    "    reader = csv.reader(csvfile, delimiter = ',')\n",
    "    next(reader)\n",
    "    for row in reader:\n",
    "        if sanitize(row):\n",
    "            X.append(sanitize(row))\n",
    "            Y.append(float(row[7]))\n",
    "\n",
    "X = np.array(X)\n",
    "Y = np.array(Y)\n",
    "print(X.shape)\n",
    "print(Y.shape)"
   ]
  },
  {
   "cell_type": "code",
   "execution_count": 51,
   "metadata": {},
   "outputs": [
    {
     "name": "stdout",
     "output_type": "stream",
     "text": [
      "m =  752\n",
      "n =  7\n",
      "17\n",
      "17\n"
     ]
    }
   ],
   "source": [
    "#Set aside a testing set\n",
    "from sklearn.model_selection import train_test_split\n",
    "X_train, X_test, Y_train, Y_test = train_test_split(X, Y, test_size = 0.2, random_state = 637)\n",
    "X_test, X_val, Y_test, Y_val = train_test_split(X_test, Y_test, test_size = 0.5, random_state = 842)\n",
    "\n",
    "#Standardize features\n",
    "from sklearn.preprocessing import StandardScaler\n",
    "scaler = StandardScaler()\n",
    "X_train = scaler.fit_transform(X_train)\n",
    "X_test = scaler.transform(X_test)\n",
    "X_val = scaler.transform(X_val)\n",
    "\n",
    "#Define m and n using input features\n",
    "m = len(X_train)\n",
    "n = len(X_train[0]) +1\n",
    "print(\"m = \", m)\n",
    "print(\"n = \", n)\n",
    "\n",
    "#Create a special test set for high precipitation events\n",
    "from statistics import mean\n",
    "precip = []\n",
    "for row in X_test:\n",
    "    precip.append(row[4])\n",
    "mean_precip = mean(precip)\n",
    "\n",
    "precip_test_X = []\n",
    "precip_test_Y = []\n",
    "for i, row in enumerate(X_test):\n",
    "    if row[4] > mean_precip:\n",
    "        precip_test_X.append(row)\n",
    "        precip_test_Y.append(Y_test[i])\n",
    "precip_test_X = np.array(precip_test_X)\n",
    "precip_test_Y=np.array(precip_test_Y)\n",
    "print(len(precip_test_X))\n",
    "print(len(precip_test_Y))"
   ]
  },
  {
   "cell_type": "code",
   "execution_count": 21,
   "metadata": {},
   "outputs": [
    {
     "data": {
      "text/plain": [
       "<matplotlib.legend.Legend at 0x1ebc3503820>"
      ]
     },
     "execution_count": 21,
     "metadata": {},
     "output_type": "execute_result"
    },
    {
     "data": {
      "image/png": "[encoded data removed]",
      "text/plain": [
       "<Figure size 432x288 with 1 Axes>"
      ]
     },
     "metadata": {
      "needs_background": "light"
     },
     "output_type": "display_data"
    }
   ],
   "source": [
    "#Data visualization\n",
    "fig, ax = plt.subplots(1,1)\n",
    "discharge = []\n",
    "DO = []\n",
    "watertemp = []\n",
    "airtemp = []\n",
    "precip = []\n",
    "for row in X_train:\n",
    "    discharge.append(row[0])\n",
    "    DO.append(row[1])\n",
    "    watertemp.append(row[2])\n",
    "    airtemp.append(row[3])\n",
    "    precip.append(row[4])\n",
    "    \n",
    "ax.plot(discharge, Y_train, '.')\n",
    "ax.plot(DO, Y_train, '.')\n",
    "ax.plot(watertemp, Y_train, '.')\n",
    "ax.plot(airtemp, Y_train, '.')\n",
    "ax.plot(precip, Y_train, '.')\n",
    "ax.set_ylabel('Total Chlorophyll')\n",
    "ax.set_xlabel('Standardized Data')\n",
    "plt.figlegend(\n",
    "    ('Discharge', 'DO', 'Water T', 'Air T', 'Precip'))"
   ]
  },
  {
   "cell_type": "markdown",
   "metadata": {},
   "source": [
    "Notes on visualization:\n",
    "Discharge and DO are negatively correlated with chlorophyll content.\n",
    "Water temp, air temp, and precipitation are positively correlated with chlorophyll content.\n",
    "Higher temp and lower discharge correspond with summertime conditions, where chlorophyll levels are typically higher.\n",
    "Higher precipitation results in higher chlorophyll content as nutrients are washed into the waterway.\n",
    "DO is likely more complex since algae interacts with oxygen. (Produces during day, consumes during night, consumes upon death)"
   ]
  },
  {
   "cell_type": "markdown",
   "metadata": {},
   "source": [
    "## Support Vector Machine"
   ]
  },
  {
   "cell_type": "code",
   "execution_count": 5,
   "metadata": {},
   "outputs": [
    {
     "name": "stdout",
     "output_type": "stream",
     "text": [
      "Fitting 5 folds for each of 54 candidates, totalling 270 fits\n"
     ]
    },
    {
     "data": {
      "text/plain": [
       "GridSearchCV(estimator=SVR(degree=2, epsilon=1),\n",
       "             param_grid={'C': [1, 10], 'degree': [1, 2, 3],\n",
       "                         'epsilon': [0.1, 1, 10],\n",
       "                         'kernel': ['rbf', 'linear', 'poly']},\n",
       "             scoring='r2', verbose=1)"
      ]
     },
     "execution_count": 5,
     "metadata": {},
     "output_type": "execute_result"
    }
   ],
   "source": [
    "#Build a regression model using SVM, use a systematic search to optimize hyperparameters\n",
    "from sklearn.svm import SVR\n",
    "from sklearn.model_selection import GridSearchCV\n",
    "\n",
    "svr = SVR(kernel='rbf',epsilon=1,C=1.0, degree=2)\n",
    "params_ = {\n",
    "    \"kernel\": ['rbf', 'linear', 'poly'],\n",
    "    \"epsilon\": [0.1, 1, 10],\n",
    "    \"C\": [1, 10],\n",
    "    \"degree\": [1,2,3]\n",
    "}\n",
    "\n",
    "svr_cv = GridSearchCV(svr, params_, verbose=1, scoring = 'r2')\n",
    "svr_cv.fit(X_train, Y_train)"
   ]
  },
  {
   "cell_type": "code",
   "execution_count": 52,
   "metadata": {},
   "outputs": [
    {
     "name": "stdout",
     "output_type": "stream",
     "text": [
      "{'C': 10, 'degree': 1, 'epsilon': 0.1, 'kernel': 'rbf'}\n",
      "R2 of training set is 0.8266815826246396\n",
      "R2 of validation set is 0.8528204767570464\n",
      "R2 of test set is 0.8528204767570464\n",
      "MSE of test set is 0.40184636420567676\n",
      "R2 of high precipitation set is 0.49588270474474294\n",
      "The permutation-based feature importance is [0.16861253 0.4350888  0.29144433 0.04559628 0.01279399 0.04646408]\n"
     ]
    }
   ],
   "source": [
    "#Model validation\n",
    "from sklearn.metrics import r2_score\n",
    "from sklearn.metrics import mean_squared_error\n",
    "\n",
    "print(svr_cv.best_params_)\n",
    "print(f\"R2 of training set is {svr_cv.best_score_}\")\n",
    "\n",
    "Y_pred = svr_cv.predict(X_val)\n",
    "r2_svr = r2_score(Y_val, Y_pred)\n",
    "print(f\"R2 of validation set is {r2_svr}\")\n",
    "\n",
    "Y_pred = svr_cv.predict(X_test)\n",
    "r2_test = r2_score(Y_test, Y_pred)\n",
    "print(f\"R2 of test set is {r2_svr}\")\n",
    "mse_test = mean_squared_error(Y_test,Y_pred)\n",
    "print(f'MSE of test set is {mse_test}')\n",
    "\n",
    "Y_pred = svr_cv.predict(precip_test_X)\n",
    "r2_precip = r2_score(precip_test_Y, Y_pred)\n",
    "print(f\"R2 of high precipitation set is {r2_precip}\")\n",
    "\n",
    "from sklearn.inspection import permutation_importance\n",
    "res = permutation_importance(svr_cv, X_train, Y_train, scoring='r2', n_repeats=5, random_state=42)\n",
    "p_importances = res['importances_mean']/res['importances_mean'].sum()\n",
    "print(f\"The permutation-based feature importance is {p_importances}\")"
   ]
  },
  {
   "cell_type": "markdown",
   "metadata": {},
   "source": [
    "## Artificial Neural Network"
   ]
  },
  {
   "cell_type": "code",
   "execution_count": 7,
   "metadata": {},
   "outputs": [
    {
     "name": "stdout",
     "output_type": "stream",
     "text": [
      "TensorFlow version is 2.4.1\n",
      "Keras version is 2.4.0\n"
     ]
    }
   ],
   "source": [
    "#Import packages for ANN\n",
    "import tensorflow as tf\n",
    "from tensorflow import keras\n",
    "print(f\"TensorFlow version is {tf.__version__}\")\n",
    "print(f\"Keras version is {keras.__version__}\")"
   ]
  },
  {
   "cell_type": "code",
   "execution_count": 8,
   "metadata": {},
   "outputs": [],
   "source": [
    "#Clear models, set seeds\n",
    "keras.backend.clear_session()\n",
    "np.random.seed(42)\n",
    "tf.random.set_seed(42)\n",
    "\n",
    "#Editable values\n",
    "n_epochs = 100\n",
    "n_hidden = 2\n",
    "n_neurons = 20\n",
    "act_func = 'relu'"
   ]
  },
  {
   "cell_type": "code",
   "execution_count": 9,
   "metadata": {},
   "outputs": [
    {
     "name": "stdout",
     "output_type": "stream",
     "text": [
      "MSE is:\n",
      "3/3 [==============================] - 0s 0s/step - loss: 0.3254\n",
      "0.3253844380378723\n",
      "The model may be overfitting because the training set R2 is 0.8072995805182421 and the validation set R2 is 0.622545921919083\n"
     ]
    }
   ],
   "source": [
    "#ANN using SGD optimizer\n",
    "#Tested a few layer structures to find low mean squared error\n",
    "keras.backend.clear_session()\n",
    "np.random.seed(42)\n",
    "tf.random.set_seed(42)\n",
    "\n",
    "ann_sgd = keras.models.Sequential()\n",
    "for layer in range(n_hidden):\n",
    "    ann_sgd.add(keras.layers.Dense(n_neurons,activation=act_func))\n",
    "ann_sgd.add(keras.layers.Dense(1))\n",
    "\n",
    "ann_sgd.compile(optimizer='sgd', loss=\"mean_squared_error\")\n",
    "history = ann_sgd.fit(X_train, Y_train, epochs=n_epochs,verbose=0,\n",
    "                    validation_data=(X_val, Y_val))\n",
    "print('MSE is:')\n",
    "print(ann_sgd.evaluate(X_val, Y_val))\n",
    "\n",
    "Y_pred = ann_sgd.predict(X_train)\n",
    "r2_train = r2_score(Y_pred, Y_train)\n",
    "\n",
    "Y_pred = ann_sgd.predict(X_val)\n",
    "r2_val = r2_score(Y_pred, Y_val)\n",
    "\n",
    "if r2_train<r2_val:\n",
    "    print(f'The model is not overfitting because the training set R2 is {r2_train} and the validation set R2 is {r2_val}')\n",
    "else:\n",
    "    print(f'The model may be overfitting because the training set R2 is {r2_train} and the validation set R2 is {r2_val}')"
   ]
  },
  {
   "cell_type": "code",
   "execution_count": 10,
   "metadata": {},
   "outputs": [
    {
     "name": "stdout",
     "output_type": "stream",
     "text": [
      "MSE is:\n",
      "3/3 [==============================] - 0s 0s/step - loss: 0.2632\n",
      "0.26320603489875793\n",
      "The model may be overfitting because the training set R2 is 0.8378222555753945 and the validation set R2 is 0.7884143060325053\n"
     ]
    }
   ],
   "source": [
    "#Add early stopping to prevent overfitting\n",
    "keras.backend.clear_session()\n",
    "np.random.seed(42)\n",
    "tf.random.set_seed(42)\n",
    "\n",
    "ann_sgd = keras.models.Sequential()\n",
    "for layer in range(n_hidden):\n",
    "    ann_sgd.add(keras.layers.Dense(n_neurons,activation=act_func))\n",
    "ann_sgd.add(keras.layers.Dense(1))\n",
    "    \n",
    "early_stopping_cb = keras.callbacks.EarlyStopping(patience=10, restore_best_weights=True)\n",
    "ann_sgd.compile(optimizer='sgd', loss=\"mean_squared_error\")\n",
    "history = ann_sgd.fit(X_train, Y_train, epochs=n_epochs,verbose=0,\n",
    "                    validation_data=(X_val, Y_val), callbacks = [early_stopping_cb])\n",
    "print('MSE is:')\n",
    "print(ann_sgd.evaluate(X_val, Y_val))\n",
    "\n",
    "Y_pred = ann_sgd.predict(X_train)\n",
    "r2_train = r2_score(Y_pred, Y_train)\n",
    "\n",
    "Y_pred = ann_sgd.predict(X_val)\n",
    "r2_val = r2_score(Y_pred, Y_val)\n",
    "\n",
    "if r2_train<r2_val:\n",
    "    print(f'The model is not overfitting because the training set R2 is {r2_train} and the validation set R2 is {r2_val}')\n",
    "else:\n",
    "    print(f'The model may be overfitting because the training set R2 is {r2_train} and the validation set R2 is {r2_val}')"
   ]
  },
  {
   "cell_type": "code",
   "execution_count": 11,
   "metadata": {},
   "outputs": [
    {
     "name": "stdout",
     "output_type": "stream",
     "text": [
      "MSE is:\n",
      "3/3 [==============================] - 0s 0s/step - loss: 0.2786\n",
      "0.27864566445350647\n",
      "The model may be overfitting because the training set R2 is 0.8490134560531031 and the validation set R2 is 0.7831979021035401\n"
     ]
    }
   ],
   "source": [
    "#ANN using Adam optimizer and early stopping\n",
    "keras.backend.clear_session()\n",
    "np.random.seed(42)\n",
    "tf.random.set_seed(42)\n",
    "\n",
    "ann_Adam = keras.models.Sequential()\n",
    "for layer in range(n_hidden):\n",
    "    ann_Adam.add(keras.layers.Dense(n_neurons,activation=act_func))\n",
    "ann_Adam.add(keras.layers.Dense(1))\n",
    "    \n",
    "early_stopping_cb = keras.callbacks.EarlyStopping(patience=10, restore_best_weights=True)\n",
    "ann_Adam.compile(optimizer=keras.optimizers.Adam(lr=0.001,beta_1=0.9,beta_2=0.999), loss=\"mean_squared_error\")\n",
    "ann_Adam.fit(X_train, Y_train, epochs=n_epochs,verbose=0,\n",
    "                    validation_data=(X_val, Y_val), callbacks = [early_stopping_cb])\n",
    "print('MSE is:')\n",
    "print(ann_Adam.evaluate(X_val, Y_val))\n",
    "\n",
    "Y_pred = ann_Adam.predict(X_train)\n",
    "r2_train = r2_score(Y_pred, Y_train)\n",
    "\n",
    "Y_pred = ann_Adam.predict(X_val)\n",
    "r2_val = r2_score(Y_pred, Y_val)\n",
    "\n",
    "if r2_train<r2_val:\n",
    "    print(f'The model is not overfitting because the training set R2 is {r2_train} and the validation set R2 is {r2_val}')\n",
    "else:\n",
    "    print(f'The model may be overfitting because the training set R2 is {r2_train} and the validation set R2 is {r2_val}')"
   ]
  },
  {
   "cell_type": "code",
   "execution_count": 12,
   "metadata": {},
   "outputs": [
    {
     "name": "stdout",
     "output_type": "stream",
     "text": [
      "MSE is:\n",
      "3/3 [==============================] - 0s 0s/step - loss: 0.2632\n",
      "0.26320603489875793\n",
      "The model may be overfitting because the training set R2 is 0.8378222555753945 and the validation set R2 is 0.7884143060325053\n"
     ]
    }
   ],
   "source": [
    "#Use Adam optimizer and add in dropout\n",
    "keras.backend.clear_session()\n",
    "np.random.seed(42)\n",
    "tf.random.set_seed(42)\n",
    "\n",
    "ann_dropout = keras.models.Sequential()\n",
    "for layer in range(n_hidden):\n",
    "    ann_dropout.add(keras.layers.Dense(n_neurons,activation=act_func))\n",
    "    keras.layers.Dropout(rate=0.4)\n",
    "ann_dropout.add(keras.layers.Dense(1))\n",
    "\n",
    "early_stopping_cb = keras.callbacks.EarlyStopping(patience=10, restore_best_weights=True)\n",
    "ann_dropout.compile(optimizer='sgd', loss=\"mean_squared_error\")\n",
    "ann_dropout.fit(X_train, Y_train, epochs=n_epochs,verbose=0,\n",
    "                    validation_data=(X_val, Y_val), callbacks = [early_stopping_cb])\n",
    "print('MSE is:')\n",
    "print(ann_dropout.evaluate(X_val, Y_val))\n",
    "\n",
    "Y_pred = ann_dropout.predict(X_train)\n",
    "r2_train = r2_score(Y_pred, Y_train)\n",
    "\n",
    "Y_pred = ann_dropout.predict(X_val)\n",
    "r2_val = r2_score(Y_pred, Y_val)\n",
    "\n",
    "if r2_train<r2_val:\n",
    "    print(f'The model is not overfitting because the training set R2 is {r2_train} and the validation set R2 is {r2_val}')\n",
    "else:\n",
    "    print(f'The model may be overfitting because the training set R2 is {r2_train} and the validation set R2 is {r2_val}')"
   ]
  },
  {
   "cell_type": "code",
   "execution_count": 13,
   "metadata": {},
   "outputs": [
    {
     "name": "stdout",
     "output_type": "stream",
     "text": [
      "MSE is:\n",
      "3/3 [==============================] - 0s 0s/step - loss: 0.3202\n",
      "0.3201933801174164\n",
      "The model may be overfitting because the training set R2 is 0.8312008421105199 and the validation set R2 is 0.7483553198285808\n"
     ]
    }
   ],
   "source": [
    "#Remove dropout and try batch normalization\n",
    "keras.backend.clear_session()\n",
    "np.random.seed(42)\n",
    "tf.random.set_seed(42)\n",
    "\n",
    "ann_bnorm = keras.models.Sequential()\n",
    "for layer in range(n_hidden):\n",
    "    ann_bnorm.add(keras.layers.Dense(n_neurons,activation=act_func))\n",
    "    ann_bnorm.add(keras.layers.BatchNormalization())\n",
    "ann_bnorm.add(keras.layers.Dense(1))\n",
    "    \n",
    "early_stopping_cb = keras.callbacks.EarlyStopping(patience=10, restore_best_weights=True)\n",
    "ann_bnorm.compile(optimizer='sgd', loss=\"mean_squared_error\")\n",
    "ann_bnorm.fit(X_train, Y_train, epochs=n_epochs,verbose=0,\n",
    "                    validation_data=(X_val, Y_val), callbacks = [early_stopping_cb])\n",
    "print('MSE is:')\n",
    "print(ann_bnorm.evaluate(X_val, Y_val))\n",
    "\n",
    "Y_pred = ann_bnorm.predict(X_train)\n",
    "r2_train = r2_score(Y_pred, Y_train)\n",
    "\n",
    "Y_pred = ann_bnorm.predict(X_val)\n",
    "r2_val = r2_score(Y_pred, Y_val)\n",
    "\n",
    "if r2_train<r2_val:\n",
    "    print(f'The model is not overfitting because the training set R2 is {r2_train} and the validation set R2 is {r2_val}')\n",
    "else:\n",
    "    print(f'The model may be overfitting because the training set R2 is {r2_train} and the validation set R2 is {r2_val}')"
   ]
  },
  {
   "cell_type": "code",
   "execution_count": 14,
   "metadata": {},
   "outputs": [
    {
     "name": "stdout",
     "output_type": "stream",
     "text": [
      "MSE is:\n",
      "3/3 [==============================] - 0s 0s/step - loss: 0.6082\n",
      "0.608180582523346\n",
      "The model may be overfitting because the training set R2 is 0.8196028930325507 and the validation set R2 is 0.7714068385828576\n"
     ]
    }
   ],
   "source": [
    "#Remove batch normalization and try regularization\n",
    "#Test l1 and l2\n",
    "#investigate difference between verbose 0 and 2\n",
    "keras.backend.clear_session()\n",
    "np.random.seed(42)\n",
    "tf.random.set_seed(42)\n",
    "\n",
    "ann_reg = keras.models.Sequential()\n",
    "for layer in range(n_hidden):\n",
    "    ann_reg.add(keras.layers.Dense(n_neurons,activation=act_func, kernel_regularizer=keras.regularizers.l1()))\n",
    "ann_reg.add(keras.layers.Dense(1))\n",
    "\n",
    "early_stopping_cb = keras.callbacks.EarlyStopping(patience=10, restore_best_weights=True)\n",
    "ann_reg.compile(optimizer=keras.optimizers.Adam(lr=0.001,beta_1=0.9,beta_2=0.999), loss=\"mean_squared_error\")\n",
    "ann_reg.fit(X_train, Y_train, epochs=n_epochs,verbose=0,\n",
    "                    validation_data=(X_val, Y_val), callbacks = [early_stopping_cb])\n",
    "print('MSE is:')\n",
    "print(ann_reg.evaluate(X_val, Y_val))\n",
    "\n",
    "Y_pred = ann_reg.predict(X_train)\n",
    "r2_train = r2_score(Y_pred, Y_train)\n",
    "\n",
    "Y_pred = ann_reg.predict(X_val)\n",
    "r2_val = r2_score(Y_pred, Y_val)\n",
    "\n",
    "if r2_train<r2_val:\n",
    "    print(f'The model is not overfitting because the training set R2 is {r2_train} and the validation set R2 is {r2_val}')\n",
    "else:\n",
    "    print(f'The model may be overfitting because the training set R2 is {r2_train} and the validation set R2 is {r2_val}')"
   ]
  },
  {
   "cell_type": "code",
   "execution_count": 15,
   "metadata": {},
   "outputs": [
    {
     "name": "stdout",
     "output_type": "stream",
     "text": [
      "3/3 [==============================] - 0s 0s/step - loss: 0.3736\n"
     ]
    }
   ],
   "source": [
    "#Tune hyperparameters for the best of these models (Adam optimizer with early stopping, no batch norm or reg)\n",
    "#Wrap the Keras model to SciKit Learn\n",
    "keras.backend.clear_session()\n",
    "np.random.seed(42)\n",
    "tf.random.set_seed(42)\n",
    "\n",
    "def build_model(n_hidden=2, n_neurons=20,learning_rate=0.001):\n",
    "    model = keras.models.Sequential()\n",
    "    for layer in range(n_hidden):\n",
    "        model.add(keras.layers.Dense(n_neurons, activation=act_func))\n",
    "        model.add(keras.layers.BatchNormalization())\n",
    "    model.add(keras.layers.Dense(1))\n",
    "    optimizer = keras.optimizers.Adam(lr=learning_rate)\n",
    "    model.compile(loss=\"mean_squared_error\", optimizer=optimizer)\n",
    "    return model\n",
    "\n",
    "early_stopping_cb = keras.callbacks.EarlyStopping(patience=5, restore_best_weights=True)\n",
    "keras_reg = keras.wrappers.scikit_learn.KerasRegressor(build_model)\n",
    "keras_reg.fit(X_train, Y_train, epochs=n_epochs,\n",
    "              validation_data=(X_val, Y_val),\n",
    "              callbacks=[keras.callbacks.EarlyStopping(patience=10)], verbose=0)\n",
    "mse_test = keras_reg.score(X_val, Y_val)"
   ]
  },
  {
   "cell_type": "code",
   "execution_count": 16,
   "metadata": {},
   "outputs": [
    {
     "name": "stdout",
     "output_type": "stream",
     "text": [
      "Fitting 5 folds for each of 3 candidates, totalling 15 fits\n",
      "[CV] END .......learning_rate=0.001, n_hidden=2, n_neurons=4; total time=   3.3s\n",
      "[CV] END .......learning_rate=0.001, n_hidden=2, n_neurons=4; total time=   5.2s\n",
      "[CV] END .......learning_rate=0.001, n_hidden=2, n_neurons=4; total time=   2.9s\n",
      "[CV] END .......learning_rate=0.001, n_hidden=2, n_neurons=4; total time=   4.5s\n",
      "[CV] END .......learning_rate=0.001, n_hidden=2, n_neurons=4; total time=   3.2s\n",
      "[CV] END .......learning_rate=0.001, n_hidden=2, n_neurons=8; total time=   2.2s\n",
      "[CV] END .......learning_rate=0.001, n_hidden=2, n_neurons=8; total time=   2.2s\n",
      "[CV] END .......learning_rate=0.001, n_hidden=2, n_neurons=8; total time=   2.3s\n",
      "[CV] END .......learning_rate=0.001, n_hidden=2, n_neurons=8; total time=   2.2s\n",
      "[CV] END .......learning_rate=0.001, n_hidden=2, n_neurons=8; total time=   3.3s\n",
      "[CV] END ......learning_rate=0.001, n_hidden=2, n_neurons=12; total time=   2.2s\n",
      "[CV] END ......learning_rate=0.001, n_hidden=2, n_neurons=12; total time=   2.3s\n",
      "[CV] END ......learning_rate=0.001, n_hidden=2, n_neurons=12; total time=   1.8s\n",
      "[CV] END ......learning_rate=0.001, n_hidden=2, n_neurons=12; total time=   2.3s\n",
      "[CV] END ......learning_rate=0.001, n_hidden=2, n_neurons=12; total time=   2.4s\n"
     ]
    },
    {
     "data": {
      "text/plain": [
       "GridSearchCV(estimator=<tensorflow.python.keras.wrappers.scikit_learn.KerasRegressor object at 0x000001EBC0372B20>,\n",
       "             param_grid={'learning_rate': [0.001], 'n_hidden': [2],\n",
       "                         'n_neurons': [4, 8, 12]},\n",
       "             scoring='r2', verbose=2)"
      ]
     },
     "execution_count": 16,
     "metadata": {},
     "output_type": "execute_result"
    }
   ],
   "source": [
    "#Use systematic grid search to tune hyperparameters\n",
    "keras.backend.clear_session()\n",
    "np.random.seed(42)\n",
    "tf.random.set_seed(42)\n",
    "                   \n",
    "params_ = {\n",
    "    \"n_hidden\": [2],\n",
    "    \"n_neurons\": [4, 8, 12],\n",
    "    \"learning_rate\": [1e-3],\n",
    "}\n",
    "\n",
    "ann_cv = GridSearchCV(keras_reg, params_, verbose=2, scoring='r2')\n",
    "ann_cv.fit(X_train, Y_train, epochs=n_epochs,\n",
    "              validation_data=(X_val, Y_val),\n",
    "              callbacks=[keras.callbacks.EarlyStopping(patience=10)], verbose=0)"
   ]
  },
  {
   "cell_type": "code",
   "execution_count": 53,
   "metadata": {},
   "outputs": [
    {
     "name": "stdout",
     "output_type": "stream",
     "text": [
      "{'learning_rate': 0.001, 'n_hidden': 2, 'n_neurons': 12}\n",
      "The model may be overfitting because the training set R2 is 0.7899646758390998 and the validation set R2 is 0.7657930822064596\n",
      "The training data error is:\n",
      "24/24 [==============================] - 0s 524us/step - loss: 0.4535\n",
      "0.4535008668899536\n",
      "The test data error is:\n",
      "3/3 [==============================] - 0s 499us/step - loss: 0.4621\n",
      "0.4620992839336395\n",
      "the test set R2 is 0.8545896542803468\n",
      "the test set MSE is 0.462099273913789\n",
      "R2 of high precipitation set is 0.28889900701721904\n",
      "The permutation-based feature importance is [0.05823473 0.59585797 0.3156257  0.01886467 0.00164741 0.00976952]\n"
     ]
    }
   ],
   "source": [
    "print(ann_cv.best_params_)\n",
    "\n",
    "ann = ann_cv.best_estimator_.model\n",
    "Y_pred = ann.predict(X_train)\n",
    "r2_train = r2_score(Y_pred, Y_train)\n",
    "\n",
    "Y_pred = ann.predict(X_val)\n",
    "r2_val = r2_score(Y_pred, Y_val)\n",
    "\n",
    "if r2_train<r2_val:\n",
    "    print(f'The model is not overfitting because the training set R2 is {r2_train} and the validation set R2 is {r2_val}')\n",
    "else:\n",
    "    print(f'The model may be overfitting because the training set R2 is {r2_train} and the validation set R2 is {r2_val}')\n",
    "\n",
    "print('The training data error is:')\n",
    "print(ann.evaluate(X_train,Y_train))\n",
    "print('The test data error is:')\n",
    "print(ann.evaluate(X_test,Y_test))\n",
    "\n",
    "Y_pred = ann.predict(X_test)\n",
    "r2_test = r2_score(Y_pred, Y_test)\n",
    "print(f'the test set R2 is {r2_test}')\n",
    "mse_test = mean_squared_error(Y_pred, Y_test)\n",
    "print(f'the test set MSE is {mse_test}')\n",
    "\n",
    "Y_pred = ann.predict(precip_test_X)\n",
    "r2_precip = r2_score(precip_test_Y, Y_pred)\n",
    "print(f\"R2 of high precipitation set is {r2_precip}\")\n",
    "\n",
    "res = permutation_importance(ann, X_train, Y_train, scoring='r2', n_repeats=5, random_state=42)\n",
    "p_importances = res['importances_mean']/res['importances_mean'].sum()\n",
    "print(f\"The permutation-based feature importance is {p_importances}\")"
   ]
  },
  {
   "cell_type": "markdown",
   "metadata": {},
   "source": [
    "## Random Forest"
   ]
  },
  {
   "cell_type": "code",
   "execution_count": 18,
   "metadata": {},
   "outputs": [
    {
     "name": "stdout",
     "output_type": "stream",
     "text": [
      "R2 of validation set is 0.7523782301970312\n",
      "R2 of training set is 0.7421458842037352\n"
     ]
    }
   ],
   "source": [
    "#Create simple decision tree\n",
    "from sklearn.tree import DecisionTreeRegressor\n",
    "tree_reg = DecisionTreeRegressor(min_samples_split=20)\n",
    "tree_reg.fit(X_train, Y_train)\n",
    "\n",
    "#evaluate performance of decision tree\n",
    "Y_pred = tree_reg.predict(X_val)\n",
    "r2_tree = r2_score(Y_val, Y_pred)\n",
    "print(f\"R2 of validation set is {r2_tree}\")\n",
    "\n",
    "#evaluate performance of decision tree\n",
    "Y_pred = tree_reg.predict(X_train)\n",
    "r2_tree = r2_score(Y_train, Y_pred)\n",
    "print(f\"R2 of training set is {r2_tree}\")"
   ]
  },
  {
   "cell_type": "code",
   "execution_count": 55,
   "metadata": {},
   "outputs": [
    {
     "data": {
      "text/plain": [
       "GridSearchCV(estimator=RandomForestRegressor(random_state=42),\n",
       "             param_grid={'max_depth': [3], 'max_features': ['sqrt'],\n",
       "                         'max_samples': [200], 'min_samples_split': [20],\n",
       "                         'n_estimators': [300]},\n",
       "             scoring='r2')"
      ]
     },
     "execution_count": 55,
     "metadata": {},
     "output_type": "execute_result"
    }
   ],
   "source": [
    "#Grid search for best random forest model\n",
    "from sklearn.ensemble import RandomForestRegressor\n",
    "keras.backend.clear_session()\n",
    "np.random.seed(42)\n",
    "tf.random.set_seed(42)\n",
    "\n",
    "rnd_reg = RandomForestRegressor(random_state=42, bootstrap=True)\n",
    "params_ = {\n",
    "    \"n_estimators\": [300],\n",
    "    \"max_depth\": [3],\n",
    "    \"max_features\": ['sqrt'],\n",
    "    \"min_samples_split\": [20],\n",
    "    #\"ccp_alpha\": [1.0],   \n",
    "    \"max_samples\": [200]\n",
    "}\n",
    "\n",
    "forest_cv = GridSearchCV(rnd_reg, params_, verbose=0, scoring='r2')\n",
    "forest_cv.fit(X_train, Y_train)"
   ]
  },
  {
   "cell_type": "code",
   "execution_count": 56,
   "metadata": {},
   "outputs": [
    {
     "name": "stdout",
     "output_type": "stream",
     "text": [
      "The model may be overfitting because the training set R2 is 0.6567110699885361 and the validation set R2 is 0.5687961149628847\n",
      "The test set R2 is 0.7401501142437344\n",
      "the test set MSE is 0.7874548460182466\n",
      "R2 of high precipitation set is 0.7275149381568307\n",
      "{'max_depth': 3, 'max_features': 'sqrt', 'max_samples': 200, 'min_samples_split': 20, 'n_estimators': 300}\n",
      "0.5360166539899571\n",
      "The impurity-based feature importance is [0.28446096 0.09491208 0.34981988 0.2189227  0.00132286 0.05056152]\n",
      "The permutation-based feature importance is [0.24066298 0.04730744 0.48722182 0.19819908 0.00140629 0.02520238]\n"
     ]
    }
   ],
   "source": [
    "#Validate random forest model\n",
    "Y_pred = forest_cv.predict(X_val)\n",
    "r2_val = r2_score(Y_val, Y_pred)\n",
    "\n",
    "Y_pred = forest_cv.predict(X_train)\n",
    "r2_train = r2_score(Y_train, Y_pred)\n",
    "\n",
    "if r2_train<r2_val:\n",
    "    print(f'The model is not overfitting because the training set R2 is {r2_train} and the validation set R2 is {r2_val}')\n",
    "else:\n",
    "    print(f'The model may be overfitting because the training set R2 is {r2_train} and the validation set R2 is {r2_val}')\n",
    "    \n",
    "Y_pred = forest_cv.predict(X_test)\n",
    "r2_test = r2_score(Y_test, Y_pred)\n",
    "print(f'The test set R2 is {r2_test}')\n",
    "mse_test = mean_squared_error(Y_pred, Y_test)\n",
    "print(f'the test set MSE is {mse_test}')\n",
    "\n",
    "Y_pred = forest_cv.predict(precip_test_X)\n",
    "r2_precip = r2_score(precip_test_Y, Y_pred)\n",
    "print(f\"R2 of high precipitation set is {r2_precip}\")\n",
    "    \n",
    "print(forest_cv.best_params_)\n",
    "print(forest_cv.best_score_)\n",
    "forest = forest_cv.best_estimator_\n",
    "\n",
    "print(f\"The impurity-based feature importance is {forest.feature_importances_}\")\n",
    "\n",
    "res = permutation_importance(forest_cv, X_train, Y_train, scoring='r2', n_repeats=5, random_state=42)\n",
    "p_importances = res['importances_mean']/res['importances_mean'].sum()\n",
    "print(f\"The permutation-based feature importance is {p_importances}\")"
   ]
  }
 ],
 "metadata": {
  "kernelspec": {
   "display_name": "Tensorflow",
   "language": "python",
   "name": "tf"
  },
  "language_info": {
   "codemirror_mode": {
    "name": "ipython",
    "version": 3
   },
   "file_extension": ".py",
   "mimetype": "text/x-python",
   "name": "python",
   "nbconvert_exporter": "python",
   "pygments_lexer": "ipython3",
   "version": "3.8.8"
  }
 },
 "nbformat": 4,
 "nbformat_minor": 4
}
